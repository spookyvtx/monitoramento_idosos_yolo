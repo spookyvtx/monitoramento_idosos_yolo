{
 "cells": [
  {
   "cell_type": "code",
   "execution_count": null,
   "metadata": {},
   "outputs": [
    {
     "name": "stdout",
     "output_type": "stream",
     "text": [
      "Creating new Ultralytics Settings v0.0.6 file  \n",
      "View Ultralytics Settings with 'yolo settings' or at 'C:\\Users\\secre\\AppData\\Roaming\\Ultralytics\\settings.json'\n",
      "Update Settings with 'yolo settings key=value', i.e. 'yolo settings runs_dir=path/to/dir'. For help see https://docs.ultralytics.com/quickstart/#ultralytics-settings.\n"
     ]
    }
   ],
   "source": [
    "from ultralytics import YOLO\n",
    "import cv2"
   ]
  },
  {
   "cell_type": "code",
   "execution_count": null,
   "metadata": {},
   "outputs": [],
   "source": [
    "# Carregar o modelo YOLO\n",
    "model = YOLO(\"best.pt\")\n",
    "\n",
    "# Caminho do vídeo\n",
    "video_path = \"video.mp4\"\n",
    "\n",
    "# Abrir o vídeo\n",
    "cap = cv2.VideoCapture(video_path)\n",
    "\n",
    "valores = []\n",
    "frame_atual = 0\n",
    "intervalo = 4  # Pular a cada 4 frames\n",
    "\n",
    "while cap.isOpened():\n",
    "    cap.set(cv2.CAP_PROP_POS_FRAMES, frame_atual)\n",
    "    ret, frame = cap.read()\n",
    "    if not ret:\n",
    "        break  # Sai do loop se o vídeo terminar\n",
    "\n",
    "    # Realizar inferência no frame\n",
    "    results = model(frame)\n",
    "\n",
    "    # Iterar sobre os resultados\n",
    "    for result in results:\n",
    "        boxes = result.boxes  # Caixas delimitadoras\n",
    "        classes = boxes.cls  # Classes detectadas (tensor)\n",
    "        scores = boxes.conf  # Confiança das detecções (tensor)\n",
    "\n",
    "        print(classes)\n",
    "        # Converter os valores das classes para uma lista e armazenar\n",
    "        # Verifica se o tensor está vazio\n",
    "        if classes.numel() == 0:\n",
    "            valores.append(4.0)  # Adiciona 4 se não houver detecção\n",
    "        else:\n",
    "            valores.extend(classes.tolist())  # Adiciona os valores normalmente\n",
    "\n",
    "    frame_atual += intervalo\n",
    "\n",
    "# Liberar recursos\n",
    "cap.release()\n",
    "cv2.destroyAllWindows()"
   ]
  },
  {
   "cell_type": "code",
   "execution_count": null,
   "metadata": {},
   "outputs": [],
   "source": [
    "tamOriginal = [num for num in valores for _ in range(4)]\n",
    "\n",
    "def contar_ocorrencias(arr, numero):\n",
    "    return arr.count(numero)\n",
    "\n",
    "def frames_para_tempo(frames):\n",
    "    segundos = frames / 30\n",
    "    minutos = int(segundos // 60)\n",
    "    segundos_restantes = segundos % 60\n",
    "\n",
    "    if(minutos == 0):\n",
    "      return f\"{segundos_restantes:.2f} seg\"\n",
    "    else:\n",
    "      return f\"{minutos} min {segundos_restantes:.2f} seg\"\n",
    "\n",
    "def calcular_porcentagem(arr, numero):\n",
    "    total = len(arr)\n",
    "    ocorrencias = arr.count(numero)\n",
    "    porcentagem = round((ocorrencias / total) * 100, 3)\n",
    "    return porcentagem\n",
    "\n",
    "# EM PÉ:\n",
    "frames_em_pe = contar_ocorrencias(tamOriginal, 1.0)\n",
    "tempo_em_pe = frames_para_tempo(frames_em_pe)\n",
    "porc_em_pe = calcular_porcentagem(tamOriginal, 1.0)\n",
    "\n",
    "print('Tempo em pé:', tempo_em_pe, '(', porc_em_pe,'% do tempo total)')\n",
    "\n",
    "# SENTADO:\n",
    "frames_sentado = contar_ocorrencias(tamOriginal, 2.0)\n",
    "tempo_sentado = frames_para_tempo(frames_sentado)\n",
    "porc_sentado = calcular_porcentagem(tamOriginal, 2.0)\n",
    "\n",
    "print('Tempo sentado:', tempo_sentado, '(', porc_sentado,'% do tempo total)')\n",
    "\n",
    "# DEITADO:\n",
    "frames_deitado = contar_ocorrencias(tamOriginal, 0.0)\n",
    "tempo_deitado = frames_para_tempo(frames_deitado)\n",
    "porc_deitado = calcular_porcentagem(tamOriginal, 0.0)\n",
    "\n",
    "print('Tempo deitado:', tempo_deitado, '(', porc_deitado,'% do tempo total)')\n",
    "\n",
    "# NAO:\n",
    "frames_nao = contar_ocorrencias(tamOriginal, 4.0)\n",
    "tempo_nao = frames_para_tempo(frames_nao)\n",
    "porc_nao = calcular_porcentagem(tamOriginal, 4.0)\n",
    "\n",
    "print('Tempo com usuário não detectado:', tempo_nao, '(', porc_nao,'% do tempo total)')\n",
    "\n",
    "# TOTAL\n",
    "duracao = frames_para_tempo(len(tamOriginal))\n",
    "\n",
    "print('Duração total:', duracao)"
   ]
  }
 ],
 "metadata": {
  "kernelspec": {
   "display_name": ".venv",
   "language": "python",
   "name": "python3"
  },
  "language_info": {
   "codemirror_mode": {
    "name": "ipython",
    "version": 3
   },
   "file_extension": ".py",
   "mimetype": "text/x-python",
   "name": "python",
   "nbconvert_exporter": "python",
   "pygments_lexer": "ipython3",
   "version": "3.9.13"
  }
 },
 "nbformat": 4,
 "nbformat_minor": 2
}
